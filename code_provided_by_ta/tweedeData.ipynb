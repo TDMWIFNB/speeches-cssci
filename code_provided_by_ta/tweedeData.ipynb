{
 "cells": [
  {
   "cell_type": "code",
   "execution_count": 1,
   "metadata": {},
   "outputs": [],
   "source": [
    "import requests\n",
    "import os\n",
    "import pandas as pd"
   ]
  },
  {
   "cell_type": "code",
   "execution_count": 2,
   "metadata": {},
   "outputs": [
    {
     "name": "stdout",
     "output_type": "stream",
     "text": [
      "Downloaded all PDFs to tweede_pdfs2024\n"
     ]
    }
   ],
   "source": [
    "##########\n",
    "# This code will take several minutes to run. \n",
    "# It will download 1448 documents which will take up 369 MB of space.\n",
    "# If you wish to extend the dataset with more years' speeches, modify lines 9, 14, 59 and 63 for each new year.\n",
    "##########\n",
    "\n",
    "# Initial setup\n",
    "base_url = \"https://gegevensmagazijn.tweedekamer.nl/OData/v4/2.0/Document\"\n",
    "query_params = \"?$filter=Soort eq 'Stenogram' and year(Datum) eq 2024\"  # change the year here to get data for other years.\n",
    "page_size = 250\n",
    "skip = 0\n",
    "\n",
    "# Ensure there is a directory to save the downloaded PDFs\n",
    "pdf_folder = 'tweede_pdfs2024'\n",
    "os.makedirs(pdf_folder, exist_ok=True)\n",
    "\n",
    "# Function to make HTTP GET requests\n",
    "def fetch_data(url):\n",
    "    response = requests.get(url)\n",
    "    response.raise_for_status()  # Will stop the loop if an HTTP error occurs\n",
    "    return response.json()\n",
    "\n",
    "# Function to download a PDF from a URL\n",
    "def download_pdf(pdf_url, filename):\n",
    "    response = requests.get(pdf_url)\n",
    "    response.raise_for_status()\n",
    "    with open(filename, 'wb') as f:\n",
    "        f.write(response.content)\n",
    "\n",
    "# Loop to fetch all pages and download PDFs\n",
    "file_paths = []\n",
    "file_names = []\n",
    "while True:\n",
    "    full_url = f\"{base_url}{query_params}&$skip={skip}\"\n",
    "    data = fetch_data(full_url)\n",
    "   \n",
    "    if 'value' in data and len(data['value']) > 0:\n",
    "        for entry in data['value']:\n",
    "            # Construct the URL for the PDF resource\n",
    "            doc_id = entry['Id']\n",
    "            pdf_url = f\"{base_url}/{doc_id}/resource\"\n",
    "            file_names.append(doc_id + '.pdf')\n",
    "           \n",
    "            # Download the PDF and save it\n",
    "            pdf_filename = os.path.join(pdf_folder, f\"{doc_id}.pdf\")\n",
    "            file_paths.append(pdf_filename)\n",
    "            download_pdf(pdf_url, pdf_filename)\n",
    "       \n",
    "        skip += page_size  # Prepare for the next page\n",
    "        if len(data['value']) < page_size:\n",
    "            break\n",
    "    else:\n",
    "        break\n",
    "\n",
    "print(f\"Downloaded all PDFs to {pdf_folder}\")\n",
    "\n",
    "# save filenames to text file so they can be reused without re-downloading the files:\n",
    "# Note that if you are downloading a new year, you should probably rename this file to match.\n",
    "with open('filepaths2024.txt', 'w') as file:\n",
    "    for item in file_paths:\n",
    "        file.write(item + '\\n')\n",
    "\n",
    "with open('filenames2024.txt', 'w') as file:\n",
    "    for item in file_names:\n",
    "        file.write(item + '\\n')"
   ]
  },
  {
   "cell_type": "code",
   "execution_count": null,
   "metadata": {},
   "outputs": [],
   "source": [
    "\"\"\" \n",
    "uses the saved text file to recreate the list\n",
    "\"\"\"\n",
    "# with open('filepaths2024.txt', 'r') as file:\n",
    "#     file_paths = file.read().splitlines()\n",
    "# print(file_paths)\n",
    "\n",
    "# with open('filenames2024.txt', 'r') as file:\n",
    "#     file_names = file.read().splitlines()\n",
    "# print(file_names)"
   ]
  }
 ],
 "metadata": {
  "kernelspec": {
   "display_name": "py312",
   "language": "python",
   "name": "python3"
  },
  "language_info": {
   "codemirror_mode": {
    "name": "ipython",
    "version": 3
   },
   "file_extension": ".py",
   "mimetype": "text/x-python",
   "name": "python",
   "nbconvert_exporter": "python",
   "pygments_lexer": "ipython3",
   "version": "3.12.2"
  }
 },
 "nbformat": 4,
 "nbformat_minor": 2
}
